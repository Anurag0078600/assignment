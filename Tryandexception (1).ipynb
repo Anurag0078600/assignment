{
 "cells": [
  {
   "cell_type": "markdown",
   "id": "99c58d2c-4f41-4b9f-bc2d-e929bba8ece5",
   "metadata": {},
   "source": [
    "# Try and Exception"
   ]
  },
  {
   "cell_type": "code",
   "execution_count": 9,
   "id": "e4da0739-3ee4-44b3-bb05-9cb1c5502b42",
   "metadata": {},
   "outputs": [
    {
     "name": "stdin",
     "output_type": "stream",
     "text": [
      "enter a no. to be divided:  45\n",
      "enter a no. to be divided by:  0\n"
     ]
    },
    {
     "name": "stdout",
     "output_type": "stream",
     "text": [
      "ZeroDivisionError: What brother you are trying to divide no. by 0 asa hota hai kya kabhi !\n"
     ]
    }
   ],
   "source": [
    "'''Write a Python program that attempts to divide a number by zero within a try block. \n",
    "Catch the resulting ZeroDivisionError and print a custom message.'''\n",
    "\n",
    "try:\n",
    "    x = int(input(\"enter a no. to be divided: \"))\n",
    "    y = int(input(\"enter a no. to be divided by: \"))\n",
    "    print(x/y)\n",
    "except ZeroDivisionError:\n",
    "    print(\"ZeroDivisionError: What brother you are trying to divide no. by 0 asa hota hai kya kabhi !\")\n",
    "\n"
   ]
  },
  {
   "cell_type": "code",
   "execution_count": 10,
   "id": "87def018-60d4-4862-adc1-39357f659c58",
   "metadata": {},
   "outputs": [
    {
     "name": "stdout",
     "output_type": "stream",
     "text": [
      "NameError: Tere maa baap ne tera naam nhi rakha hota toh tere ko kaisa lagta !\n"
     ]
    }
   ],
   "source": [
    "'''Write a Python program that attempts to print an undefined variable within a try block.\n",
    "Catch the resulting NameError and print \"Variable is not defined\".'''\n",
    "\n",
    "try:\n",
    "    print(z)\n",
    "except NameError:\n",
    "    print(\"NameError: Tere maa baap ne tera naam nhi rakha hota toh tere ko kaisa lagta !\")\n",
    "\n"
   ]
  },
  {
   "cell_type": "code",
   "execution_count": 16,
   "id": "fd528af1-2b3a-4edd-8530-a0ee071e6781",
   "metadata": {},
   "outputs": [
    {
     "name": "stdout",
     "output_type": "stream",
     "text": [
      "File Not Found: joh cheez nhi hoti banani padti hai bete !\n",
      "operation finished: samj gya lagta hai\n"
     ]
    }
   ],
   "source": [
    "'''Write a Python program that attempts to open a non-existent file. \n",
    "Catch the resulting FileNotFoundError, \n",
    "print an error message, and ensure that a finally block prints \"Operation finished\" regardless of the outcome.'''\n",
    "\n",
    "try:\n",
    " f = open(\"demo.txt\",\"r\")\n",
    "except FileNotFoundError:\n",
    "    print(\"File Not Found: joh cheez nhi hoti banani padti hai bete !\")\n",
    "finally:\n",
    "    print(\"operation finished: samj gya lagta hai\")"
   ]
  },
  {
   "cell_type": "code",
   "execution_count": 26,
   "id": "45533833-0d84-4640-aea6-1fd6f5672079",
   "metadata": {},
   "outputs": [
    {
     "name": "stdin",
     "output_type": "stream",
     "text": [
      "enter a number:  -2\n"
     ]
    },
    {
     "name": "stdout",
     "output_type": "stream",
     "text": [
      " B+ my friend B+\n"
     ]
    }
   ],
   "source": [
    "''' Write a Python program that uses a try block to check if a number is positive. \n",
    "If the number is positive, use the else block to print \"The number is positive\". \n",
    "Catch any exceptions that occur during the check.'''\n",
    "\n",
    "try:\n",
    "    x = int(input('enter a number: '))\n",
    "    if x < 0:\n",
    "        raise TypeError(\"x is less than 0\")\n",
    "except TypeError:\n",
    "    print(\" B+ my friend B+\")\n",
    "else:\n",
    "    print(\" good always be +\")\n",
    "\n",
    "\n",
    "\n"
   ]
  },
  {
   "cell_type": "code",
   "execution_count": 30,
   "id": "38b53bda-2203-462b-bf10-b1cc26d3adc3",
   "metadata": {},
   "outputs": [
    {
     "name": "stdin",
     "output_type": "stream",
     "text": [
      "enter your age:  -40\n"
     ]
    },
    {
     "name": "stdout",
     "output_type": "stream",
     "text": [
      "Age cannot be Negative\n"
     ]
    }
   ],
   "source": [
    "'''Write a Python program that raises a ValueError if a variable age is set to a negative number. \n",
    "Include a custom error message that states \"Age cannot be negative\".'''\n",
    "\n",
    "try:\n",
    "    x = int(input('enter your age: '))\n",
    "    if x < 0:\n",
    "        raise ValueError(\"Age cannot be Negative\")\n",
    "except ValueError as e:\n",
    "     print(e)\n",
    "\n"
   ]
  }
 ],
 "metadata": {
  "kernelspec": {
   "display_name": "Python [conda env:base] *",
   "language": "python",
   "name": "conda-base-py"
  },
  "language_info": {
   "codemirror_mode": {
    "name": "ipython",
    "version": 3
   },
   "file_extension": ".py",
   "mimetype": "text/x-python",
   "name": "python",
   "nbconvert_exporter": "python",
   "pygments_lexer": "ipython3",
   "version": "3.12.7"
  }
 },
 "nbformat": 4,
 "nbformat_minor": 5
}
