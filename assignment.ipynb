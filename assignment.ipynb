{
 "cells": [
  {
   "cell_type": "markdown",
   "id": "0050785e-bb16-4d81-a2ad-0ed5e7b692cd",
   "metadata": {},
   "source": [
    "Assignment"
   ]
  },
  {
   "cell_type": "code",
   "execution_count": 2,
   "id": "523d4edc-4c1e-45c9-85d3-46ec75956557",
   "metadata": {},
   "outputs": [
    {
     "name": "stdout",
     "output_type": "stream",
     "text": [
      "hello\n"
     ]
    }
   ],
   "source": [
    "print(\"hello\")"
   ]
  },
  {
   "cell_type": "markdown",
   "id": "95f082f8-a980-4adc-a265-795a3aa45cef",
   "metadata": {},
   "source": [
    "hello"
   ]
  },
  {
   "cell_type": "code",
   "execution_count": 7,
   "id": "4e5737e0-dead-4700-8065-faf49d444031",
   "metadata": {},
   "outputs": [
    {
     "name": "stdout",
     "output_type": "stream",
     "text": [
      "25\n"
     ]
    }
   ],
   "source": [
    "Var = 25\n",
    "print(Var)"
   ]
  },
  {
   "cell_type": "code",
   "execution_count": 9,
   "id": "9f123b8a-08d6-40c3-ac04-3d3b98c4cbbd",
   "metadata": {},
   "outputs": [
    {
     "data": {
      "text/plain": [
       "'Anurag Giri'"
      ]
     },
     "execution_count": 9,
     "metadata": {},
     "output_type": "execute_result"
    }
   ],
   "source": [
    "firstName = \"Anurag\"\n",
    "lastName = \" Giri\"\n",
    "fullname = firstName+lastName\n",
    "fullname"
   ]
  },
  {
   "cell_type": "code",
   "execution_count": 18,
   "id": "f3facb51-9995-446b-a41b-f3190f5e877f",
   "metadata": {},
   "outputs": [
    {
     "name": "stdout",
     "output_type": "stream",
     "text": [
      "Anurag \n",
      "Giri\n"
     ]
    },
    {
     "data": {
      "text/plain": [
       "' '"
      ]
     },
     "execution_count": 18,
     "metadata": {},
     "output_type": "execute_result"
    }
   ],
   "source": [
    "len(fullname)\n",
    "len(firstName)\n",
    "len(lastName)\n",
    "fir=fullname[0:7]\n",
    "las=fullname[7:11]\n",
    "print(fir)\n",
    "print(las)\n",
    "fullname[6]"
   ]
  },
  {
   "cell_type": "code",
   "execution_count": 21,
   "id": "91f1e336-89cc-4eac-897e-a8373bd69108",
   "metadata": {},
   "outputs": [
    {
     "name": "stdout",
     "output_type": "stream",
     "text": [
      "Andhra Pradesh\n",
      "Arunachal Pradesh\n",
      "Assam\n",
      "Bihar\n"
     ]
    }
   ],
   "source": [
    "India =['Andhra Pradesh', 'Arunachal Pradesh', 'Assam','Bihar']\n",
    "for i in India:\n",
    "    print(i)"
   ]
  },
  {
   "cell_type": "code",
   "execution_count": 4,
   "id": "30866ff9-ee34-4b32-bdbb-4a00f40057c9",
   "metadata": {},
   "outputs": [
    {
     "name": "stdout",
     "output_type": "stream",
     "text": [
      " New Delhi\n",
      "<class 'str'>\n"
     ]
    }
   ],
   "source": [
    "#1. Create a variable `city` and assign the name of your favorite city to it. Print the variable.\n",
    "city = \" New Delhi\"\n",
    "print(city)\n",
    "#2. Print the data type of the variable `city`.\n",
    "print(type(city))"
   ]
  },
  {
   "cell_type": "code",
   "execution_count": 6,
   "id": "2e8de4f9-3477-4e4d-8345-2f61157313bd",
   "metadata": {},
   "outputs": [
    {
     "name": "stdout",
     "output_type": "stream",
     "text": [
      "<class 'str'> 42\n"
     ]
    }
   ],
   "source": [
    "#3. Convert the integer `42` to a string and assign it to a new variable. Print the new variable.\n",
    "var = 42\n",
    "var1 = str(var)\n",
    "print(type(var1),var1)"
   ]
  },
  {
   "cell_type": "code",
   "execution_count": 8,
   "id": "b543dfd6-61f5-4a21-b8ec-82a8db7801f8",
   "metadata": {},
   "outputs": [
    {
     "data": {
      "text/plain": [
       "6"
      ]
     },
     "execution_count": 8,
     "metadata": {},
     "output_type": "execute_result"
    }
   ],
   "source": [
    "#Use len() on your name variable and count lenght of your name\n",
    "name = \"Anurag\"\n",
    "len(name)"
   ]
  },
  {
   "cell_type": "code",
   "execution_count": 11,
   "id": "fdb04491-10d1-4f3b-aef4-6816db4b03c0",
   "metadata": {},
   "outputs": [
    {
     "name": "stdout",
     "output_type": "stream",
     "text": [
      "yes code is in code square\n"
     ]
    }
   ],
   "source": [
    "#use \" if \" statement to to check \"code\" word exist or not in \" code square\"\n",
    "if \"code\" in \" code square\":\n",
    "    print(\"yes code is in code square\")"
   ]
  },
  {
   "cell_type": "code",
   "execution_count": 84,
   "id": "afc5ed88-4f3b-4bf6-9734-7902a092f77a",
   "metadata": {},
   "outputs": [
    {
     "name": "stdin",
     "output_type": "stream",
     "text": [
      "choose no.\n",
      " 6\n",
      "choose no.\n",
      " 4\n"
     ]
    },
    {
     "name": "stdout",
     "output_type": "stream",
     "text": [
      "[10, 2, 24, 1.5, 2, 1296, 1, False, True, False, True]\n"
     ]
    }
   ],
   "source": [
    "'''demonstrate the use of the following arithmetic operators in Python on any numbers:\n",
    "\n",
    "\n",
    "Addition, Subtraction, Multiplication, Division, Modulus, Exponentiation, Floor Division.'''\n",
    "'''Write Python expressions using comparison operators (less than, greater than, equal to, not equal to) \n",
    "and evaluate them. Include examples with both numbers and strings.'''\n",
    "\n",
    "a = int(input(\"choose no.\\n\"))\n",
    "b = int(input(\"choose no.\\n\"))\n",
    "#Addition\n",
    "c = a + b\n",
    "d = a - b\n",
    "e = a * b\n",
    "f = a / b\n",
    "g = a % b\n",
    "h = a ** b\n",
    "i = a // b\n",
    "j=  a < b\n",
    "k = a > b\n",
    "l = a == b\n",
    "m = a != b\n",
    "\n",
    "list_1 = [c,d,e,f,g,h,i,j,k,l,m]\n",
    "print(list_1)"
   ]
  },
  {
   "cell_type": "code",
   "execution_count": 18,
   "id": "a38e4da3-2f51-48a3-a20b-cadeb7a3ec78",
   "metadata": {},
   "outputs": [
    {
     "name": "stdin",
     "output_type": "stream",
     "text": [
      "write a word to check if in or not in variable \n",
      " anurag\n"
     ]
    },
    {
     "name": "stdout",
     "output_type": "stream",
     "text": [
      "no anurag not in  Python Is Powerfull language\n"
     ]
    }
   ],
   "source": [
    "'''3) Create a string variable and use the ' in ' and ' not in ' keywords to check for the presence or \n",
    "absence of a substring within the string EX : \" Python Is Powerfull language\". & Print the results.'''\n",
    "\n",
    "var = \" Python Is Powerfull language\"\n",
    "stri = input('write a word to check if in or not in variable \\n')\n",
    "if stri in var:\n",
    "     print(f'yes {stri} is in {var}')\n",
    "else:\n",
    "   print(f'no {stri} not in {var}')\n",
    "\n"
   ]
  },
  {
   "cell_type": "code",
   "execution_count": 21,
   "id": "56dd59a5-571c-46f1-9e41-4bfbeb7b4b25",
   "metadata": {},
   "outputs": [
    {
     "name": "stdin",
     "output_type": "stream",
     "text": [
      "enter an item anurag\n",
      "enter an item 1\n",
      "enter an item 3\n"
     ]
    },
    {
     "name": "stdout",
     "output_type": "stream",
     "text": [
      "anurag\n",
      "1\n",
      "3\n"
     ]
    }
   ],
   "source": [
    "# Define a list with at least three elements. Use a for loop to print each element of the list.\n",
    "a = []\n",
    "for i in range(3):\n",
    "    b = input(\"enter an item\")\n",
    "    a.append(b)\n",
    "    \n",
    "for i in a:\n",
    "    print(i)\n",
    "    "
   ]
  },
  {
   "cell_type": "code",
   "execution_count": 29,
   "id": "bbd6d51c-dc19-4c40-90a2-cfb1fb042095",
   "metadata": {},
   "outputs": [
    {
     "name": "stdout",
     "output_type": "stream",
     "text": [
      "10\n",
      "9\n",
      "8\n",
      "7\n",
      "6\n",
      "5\n",
      "4\n",
      "3\n",
      "2\n",
      "1\n"
     ]
    }
   ],
   "source": [
    "# Use the range() function to print numbers from 10 to 1 using a for loop.\n",
    "for i in range(10,0,-1):\n",
    "    print(i)"
   ]
  },
  {
   "cell_type": "code",
   "execution_count": 35,
   "id": "83a4f8d6-0041-4026-bca7-cadde7bb8b01",
   "metadata": {},
   "outputs": [
    {
     "name": "stdin",
     "output_type": "stream",
     "text": [
      "enter your name \n",
      "   Anurag  Kumar  Giri \n"
     ]
    },
    {
     "name": "stdout",
     "output_type": "stream",
     "text": [
      "  An\n",
      "ri\n",
      "  ANURAG  KUMAR  GIRI \n",
      "  anurag  kumar  giri \n",
      "Anurag  Kumar  Giri\n",
      "  Anurgg  Kumgr  Giri \n",
      "['', '', 'Anurag', '', 'Kumar', '', 'Giri', '']\n"
     ]
    }
   ],
   "source": [
    "'''Create a string variable and demonstrate the following string methods: \n",
    "slicing, negative indexing, converting to uppercase converting to lowercase, \n",
    "stripping whitespace, replacing a substring, and splitting the string.'''\n",
    "\n",
    "name = input(\"enter your name \\n\")\n",
    "print(name[0:4])\n",
    "print(name[-3:-1])\n",
    "print(name.upper())\n",
    "print(name.lower())\n",
    "print(name.strip(' '))\n",
    "print(name.replace('a','g'))\n",
    "print(name.split(' '))\n",
    "      \n",
    "\n"
   ]
  },
  {
   "cell_type": "code",
   "execution_count": 36,
   "id": "55a467b9-b817-42a5-83e2-2c2423c2f268",
   "metadata": {},
   "outputs": [
    {
     "name": "stdout",
     "output_type": "stream",
     "text": [
      "a\n",
      "b\n",
      "['c', 1, 1.5, (2+3j), True]\n",
      "d\n"
     ]
    }
   ],
   "source": [
    "#Create a list inside list with at least five elements of different data types. Print the list.\n",
    "\n",
    "lis = ['a','b',['c',1,1.5,2+3j,True],'d']\n",
    "for i in lis:\n",
    "    print(i)\n",
    "\n"
   ]
  },
  {
   "cell_type": "code",
   "execution_count": 44,
   "id": "cf17e23c-48d7-4800-b023-a07272655dfd",
   "metadata": {},
   "outputs": [
    {
     "name": "stdin",
     "output_type": "stream",
     "text": [
      "enter your name \n",
      " Anurag\n",
      "what you want to find in the name \n",
      " g\n"
     ]
    },
    {
     "name": "stdout",
     "output_type": "stream",
     "text": [
      "5\n",
      "-1\n",
      "g\n",
      "g\n"
     ]
    }
   ],
   "source": [
    "#Access and print same item from the list using both positive and negative indexing.\n",
    "name = input(\"enter your name \\n\")\n",
    "b = len(name)\n",
    "c = input(\"what you want to find in the name \\n\")\n",
    "d = name.find(c)\n",
    "print(d)\n",
    "e = -(b - d)\n",
    "print(e)\n",
    "print(name[d])\n",
    "print(name[e])"
   ]
  },
  {
   "cell_type": "code",
   "execution_count": null,
   "id": "9364a3c4-12e4-4fc9-83d4-a684e22906bb",
   "metadata": {},
   "outputs": [],
   "source": [
    "#Modify elements of a list by using the append(), insert(), remove(), pop(), and del methods. Print the list after each operation."
   ]
  },
  {
   "cell_type": "code",
   "execution_count": null,
   "id": "44d66a0f-3a62-49bd-a38f-287f3875f63e",
   "metadata": {},
   "outputs": [
    {
     "name": "stdout",
     "output_type": "stream",
     "text": [
      "['a', 'b', 'c', 'd', 'e', 'f', 'g', 'h']\n",
      "['a', 'B', 'b', 'c', 'd', 'e', 'f', 'g', 'h']\n",
      "['a', 'B', 'c', 'd', 'e', 'f', 'g', 'h']\n",
      "['a', 'B', 'c', 'e', 'f', 'g', 'h']\n",
      "['a', 'B', 'c', 'e', 'g', 'h']\n"
     ]
    }
   ],
   "source": [
    "ang = ['a','b','c','d','e','f','g']\n",
    "ang.append('h')\n",
    "print(ang)\n",
    "ang.insert(1,'B')\n",
    "print(ang)\n",
    "ang.remove('b')\n",
    "print(ang)\n",
    "ang.pop(3)\n",
    "print(ang)\n",
    "del ang[4]\n",
    "print(ang)"
   ]
  },
  {
   "cell_type": "code",
   "execution_count": 52,
   "id": "fb2a55c2-acd1-4959-b177-308498e83cb3",
   "metadata": {},
   "outputs": [
    {
     "name": "stdout",
     "output_type": "stream",
     "text": [
      "1\n",
      "2\n",
      "3\n",
      "4\n",
      "power\n",
      "True\n",
      "one\n",
      "two\n",
      "Three\n",
      "Data\n",
      "False\n",
      "no\n"
     ]
    }
   ],
   "source": [
    "'''Join two lists and print the all item using for loop and also check is \"data\" present in list using\n",
    "\"if else\" statement. list_1 = [ 1,2,3,4,\"power\", True] and list_2= [\"one\", \"two\",\"Three\", \"Data\", False]'''\n",
    "\n",
    "list_1 = [ 1,2,3,4,\"power\", True]\n",
    "list_2= [\"one\", \"two\",\"Three\", \"Data\", False]\n",
    "list_3 = list_1 + list_2\n",
    "for i in list_3:\n",
    "    print(i)\n",
    "    \n",
    "if \"data\" in list_3:\n",
    "        print(\"Yes\")\n",
    "else:\n",
    "        print(\"no\")\n"
   ]
  },
  {
   "cell_type": "code",
   "execution_count": 53,
   "id": "152a5f0a-9ec0-40e5-b320-c1e8314f79d9",
   "metadata": {},
   "outputs": [
    {
     "name": "stdout",
     "output_type": "stream",
     "text": [
      "apple\n",
      "orange\n",
      "grapes\n"
     ]
    }
   ],
   "source": [
    "fruits = ('apple','orange','grapes')\n",
    "red,narangi,green = fruits\n",
    "print(red)\n",
    "print(narangi)\n",
    "print(green)\n"
   ]
  },
  {
   "cell_type": "code",
   "execution_count": 55,
   "id": "76938a89-5cbb-4896-995a-bfb24d6113c1",
   "metadata": {},
   "outputs": [
    {
     "name": "stdout",
     "output_type": "stream",
     "text": [
      "{1, 2, 3.5, 3, 'data'}\n"
     ]
    }
   ],
   "source": [
    "s = {1,2,3,3,3.5,\"data\",True}\n",
    "print(s)"
   ]
  },
  {
   "cell_type": "code",
   "execution_count": 59,
   "id": "3d657f35-178d-476a-87d2-60919d0e8579",
   "metadata": {},
   "outputs": [
    {
     "name": "stdin",
     "output_type": "stream",
     "text": [
      "enter a number \n",
      " 4\n",
      "enter a number \n",
      " 5\n"
     ]
    },
    {
     "name": "stdout",
     "output_type": "stream",
     "text": [
      "5 is greater than 4\n"
     ]
    },
    {
     "name": "stdin",
     "output_type": "stream",
     "text": [
      "enter a number \n",
      " 5\n",
      "enter a number \n",
      " 5\n"
     ]
    },
    {
     "name": "stdout",
     "output_type": "stream",
     "text": [
      "5 and 5 are equal\n"
     ]
    },
    {
     "name": "stdin",
     "output_type": "stream",
     "text": [
      "enter a number \n",
      " 6\n",
      "enter a number \n",
      " 5\n"
     ]
    },
    {
     "name": "stdout",
     "output_type": "stream",
     "text": [
      "5 is less than 6\n"
     ]
    }
   ],
   "source": [
    "#Write an if statement to compare two variables, a and b. If b is greater than a, print a message saying \"b is greater than a\".\n",
    "\n",
    "'''Write an if-else statement to compare two variables, a and b. \n",
    "If b is greater than a, print \"b is greater than a\". Otherwise, print \"a and b are equal\".'''\n",
    "\n",
    "'''Write an if-elif-else statement to compare two variables, a and b. If b is greater than a, print \"b is greater than a\". \n",
    "If a and b are equal, print \"a and b are equal\". Otherwise, print \"a is greater than b\".'''\n",
    "\n",
    "for i in range(3):\n",
    "        a = int(input(\"enter a number \\n\"))\n",
    "        b = int(input(\"enter a number \\n\"))\n",
    "        if b > a :\n",
    "                print(f'{b} is greater than {a}')\n",
    "        elif a == b:\n",
    "              print(f'{a} and {b} are equal')\n",
    "        else:\n",
    "           print(f'{b} is less than {a}')\n",
    "\n",
    "\n"
   ]
  },
  {
   "cell_type": "code",
   "execution_count": 60,
   "id": "525e7eee-5547-4bc0-9723-60d3243ecae3",
   "metadata": {},
   "outputs": [
    {
     "name": "stdout",
     "output_type": "stream",
     "text": [
      "banana\n"
     ]
    }
   ],
   "source": [
    "# Create a tuple with the elements (\"apple\", \"banana\", \"cherry\"). Access and print the second element of the tuple.\n",
    "\n",
    "anurag = tuple((\"apple\", \"banana\", \"cherry\"))\n",
    "print(anurag[1])"
   ]
  },
  {
   "cell_type": "code",
   "execution_count": 65,
   "id": "e0adbb10-6df6-4fa8-b9e9-3dd112f2ed92",
   "metadata": {},
   "outputs": [
    {
     "name": "stdout",
     "output_type": "stream",
     "text": [
      "<class 'tuple'> ('apple',)\n"
     ]
    }
   ],
   "source": [
    "#Create a tuple with a single item \"apple\". Print the type of the tuple to confirm it's a tuple.\n",
    "\n",
    "anurag = ('apple',)\n",
    "print(type(anurag),anurag)\n",
    "\n"
   ]
  }
 ],
 "metadata": {
  "kernelspec": {
   "display_name": "Python [conda env:base] *",
   "language": "python",
   "name": "conda-base-py"
  },
  "language_info": {
   "codemirror_mode": {
    "name": "ipython",
    "version": 3
   },
   "file_extension": ".py",
   "mimetype": "text/x-python",
   "name": "python",
   "nbconvert_exporter": "python",
   "pygments_lexer": "ipython3",
   "version": "3.12.7"
  }
 },
 "nbformat": 4,
 "nbformat_minor": 5
}
