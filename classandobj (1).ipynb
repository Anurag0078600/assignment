{
 "cells": [
  {
   "cell_type": "code",
   "execution_count": 1,
   "id": "22b55230-9ffd-45cc-aaed-12bfd3d82953",
   "metadata": {},
   "outputs": [
    {
     "data": {
      "text/plain": [
       "64"
      ]
     },
     "execution_count": 1,
     "metadata": {},
     "output_type": "execute_result"
    }
   ],
   "source": [
    "#Write a lambda function to calculate the square of a number. Use it to print the square of 8.\n",
    "x = lambda a : a**2\n",
    "x(8)"
   ]
  },
  {
   "cell_type": "code",
   "execution_count": null,
   "id": "c7070081-c6e8-4e16-9b1b-df23b19de014",
   "metadata": {},
   "outputs": [],
   "source": []
  },
  {
   "cell_type": "code",
   "execution_count": 2,
   "id": "49fc8f11-b7ca-429e-b6e6-30ed3f74fcd7",
   "metadata": {},
   "outputs": [
    {
     "data": {
      "text/plain": [
       "60"
      ]
     },
     "execution_count": 2,
     "metadata": {},
     "output_type": "execute_result"
    }
   ],
   "source": [
    "# Create a lambda function to multiply three arguments. Use it to multiply 3, 4, and 5, then print the result.\n",
    "x = lambda a,b,c: a*b*c\n",
    "x(3,4,5)"
   ]
  },
  {
   "cell_type": "code",
   "execution_count": 48,
   "id": "0afd8e43-3d38-41f0-8062-d8b4ea30a886",
   "metadata": {},
   "outputs": [
    {
     "data": {
      "text/plain": [
       "20"
      ]
     },
     "execution_count": 48,
     "metadata": {},
     "output_type": "execute_result"
    }
   ],
   "source": [
    "#Write a lambda function to find the maximum of two numbers. Use it to find the maximum between 10 and 20 and print the result.\n",
    "x = lambda a,b : max(a,b)\n",
    "x(10,20)\n"
   ]
  },
  {
   "cell_type": "code",
   "execution_count": 6,
   "id": "2cb56a71-78a3-49d1-bdd6-7149cd4b4981",
   "metadata": {},
   "outputs": [
    {
     "name": "stdout",
     "output_type": "stream",
     "text": [
      "[2, 4, 6, 8]\n"
     ]
    }
   ],
   "source": [
    "#Create a list of integers and use a lambda function with the filter method to filter out even numbers. Print the resulting list.\n",
    "numbers = [1,2,3,4,5,6,7,8,9]\n",
    "evennumber  = list(filter(lambda x:x%2 == 0,numbers))\n",
    "print(evennumber)\n"
   ]
  },
  {
   "cell_type": "code",
   "execution_count": 7,
   "id": "eabb7533-ca5e-4d4a-8c45-f99f18d46631",
   "metadata": {},
   "outputs": [
    {
     "name": "stdout",
     "output_type": "stream",
     "text": [
      "Dog\n",
      "Buddy\n"
     ]
    }
   ],
   "source": [
    "'''Create a class named Animal with an __init__ method that initializes species and name. \n",
    "Instantiate an object of this class with species \"Dog\" and name \"Buddy\", then print the species and name.'''\n",
    "\n",
    "class animal:\n",
    "    def __init__(self,species,name):\n",
    "        self.species = species\n",
    "        self.name = name\n",
    "a1 = animal(\"Dog\",\"Buddy\")\n",
    "print(a1.species)\n",
    "print(a1.name)"
   ]
  },
  {
   "cell_type": "code",
   "execution_count": 12,
   "id": "6315b767-372c-4f34-a7a5-f98c1e7750be",
   "metadata": {},
   "outputs": [
    {
     "name": "stdout",
     "output_type": "stream",
     "text": [
      "this is mustang C-30 manufactured in 2001\n"
     ]
    }
   ],
   "source": [
    "'''Create a class named Car with attributes for brand, model, and year. \n",
    "Add a method car_info that prints a formatted string with this information. \n",
    "Create an instance of the Car class and call the car_info method.'''\n",
    "\n",
    "class car:\n",
    "    def __init__(self,brand,model,year):\n",
    "        self.brand = brand\n",
    "        self.model = model\n",
    "        self.year = year\n",
    "    def car_info(self):\n",
    "        print(f'this is {self.brand} {self.model} manufactured in {self.year}')\n",
    "c1 = car('mustang','C-30',2001)\n",
    "c1.car_info()\n",
    "        \n",
    "\n"
   ]
  },
  {
   "cell_type": "code",
   "execution_count": 13,
   "id": "89e0fb9a-48eb-4230-9b72-b30f74fb7799",
   "metadata": {},
   "outputs": [
    {
     "name": "stdout",
     "output_type": "stream",
     "text": [
      "Hola!,Alice, como estas\n"
     ]
    }
   ],
   "source": [
    "'''Create a class named Person with an __init__ method and a method introduce that prints a greeting including the person's name.\n",
    "Instantiate an object with the name \"Alice\" and call the introduce method.'''\n",
    "\n",
    "class person:\n",
    "    def __init__(self,name):\n",
    "        self.name = name\n",
    "    def greet(self):\n",
    "        print(f'Hola!,{self.name}, como estas')\n",
    "p1 = person(\"Alice\")\n",
    "p1.greet()\n"
   ]
  },
  {
   "cell_type": "code",
   "execution_count": 16,
   "id": "30962354-764a-40a2-a9b6-6b9d0e3fa40b",
   "metadata": {},
   "outputs": [
    {
     "name": "stdout",
     "output_type": "stream",
     "text": [
      "40.75\n"
     ]
    }
   ],
   "source": [
    "'''Create a class named Student with attributes for name and grades (a list of grades). \n",
    "Add a method average_grade that returns the average of the grades. \n",
    "Create an instance of the Student class, add some grades, and print the average grade.'''\n",
    "import statistics\n",
    "class student:\n",
    "    def __init__(self,name,grade):\n",
    "        self.name = name\n",
    "        self.grade = grade\n",
    "    def avg_grade(self):\n",
    "        return(statistics.mean(self.grade))\n",
    "s1 = student(\"anurag\",[56,64,32,11])\n",
    "result= s1.avg_grade()\n",
    "print(result)\n",
    "\n",
    "\n"
   ]
  },
  {
   "cell_type": "code",
   "execution_count": 8,
   "id": "06758887-9c3e-4140-9b3f-ffbdc16a17eb",
   "metadata": {},
   "outputs": [
    {
     "data": {
      "text/plain": [
       "'this book is 27 year old'"
      ]
     },
     "execution_count": 8,
     "metadata": {},
     "output_type": "execute_result"
    }
   ],
   "source": [
    "''' Create a class named Book with attributes for title, author, and year_published.\n",
    "Add a method book_age that calculates how old the book is from the current year. \n",
    "Create an instance of the Book class and print the age of the book.'''\n",
    "\n",
    "class Book:\n",
    "    def __init__(self,title,author,year_published):\n",
    "        self.title= title\n",
    "        self.author = author\n",
    "        self.year_published = year_published\n",
    "    def book_age(self,current_year):\n",
    "        age = current_year - self.year_published\n",
    "        return (f'this book is {age} year old')\n",
    "b1= Book(\"harry Porter\",\"J.K.Rolling\",1998)\n",
    "b1.book_age(2025)"
   ]
  },
  {
   "cell_type": "code",
   "execution_count": 21,
   "id": "f11f02ce-79f8-4d07-adc3-856eeffeffd1",
   "metadata": {},
   "outputs": [
    {
     "name": "stdin",
     "output_type": "stream",
     "text": [
      "do you want to deposit or withdraw ?  deposit\n",
      "please mention the amount  2000\n"
     ]
    },
    {
     "name": "stdout",
     "output_type": "stream",
     "text": [
      "your new balance is 10002000\n"
     ]
    }
   ],
   "source": [
    "'''Write a BankAccount class with attributes for owner and balance. Add methods for deposit and withdraw.\n",
    "Create an instance and perform some deposits and withdrawals, then print the final balance.'''\n",
    "\n",
    "class bankaccount:\n",
    "    def __init__(self,owner,balance):\n",
    "        self.owner = owner\n",
    "        self.balance = balance\n",
    "    def transition(self):\n",
    "        operation = input('do you want to deposit or withdraw ? ')\n",
    "        amount = int(input('please mention the amount '))\n",
    "        if operation == \"deposit\":\n",
    "            new_balance = self.balance + amount\n",
    "            print(f'your new balance is {new_balance}')\n",
    "        elif operation == \"withdraw\":\n",
    "             new_balance = self.balance - amount\n",
    "             print(f'your new balance is {new_balance}')\n",
    "b1 = bankaccount(\"anurag\",10000000)\n",
    "b1.transition()\n",
    "            \n",
    "            "
   ]
  },
  {
   "cell_type": "code",
   "execution_count": 44,
   "id": "84c32c2c-b9c8-48a0-86fa-4d7c379f5458",
   "metadata": {},
   "outputs": [
    {
     "name": "stdout",
     "output_type": "stream",
     "text": [
      "11\n",
      "2\n",
      "12\n",
      "5.0\n"
     ]
    }
   ],
   "source": [
    "'''Create a Calculator class with methods for addition, subtraction, multiplication, and division. \n",
    "Use this class to perform a series of calculations and print the results.'''\n",
    "\n",
    "class calculator:\n",
    "  def __init__(self):  \n",
    "    self.add = (lambda x,y: x+y)\n",
    "    self.sub = (lambda x,y: x-y)\n",
    "    self.multi = (lambda x,y : x*y)\n",
    "    self.div = (lambda x,y : x/y)\n",
    "addition = calculator()\n",
    "substraction= calculator()\n",
    "multiplication = calculator()\n",
    "division = calculator()\n",
    "\n",
    "print(addition.add(5,6))\n",
    "print(substraction.sub(6,4))\n",
    "print(multiplication.multi(4,3))\n",
    "print(division.div(10,2))\n"
   ]
  },
  {
   "cell_type": "code",
   "execution_count": 18,
   "id": "e52fc0d6-5b41-44d7-bde0-4d851babcc97",
   "metadata": {},
   "outputs": [
    {
     "name": "stdin",
     "output_type": "stream",
     "text": [
      "how this animal sounds:  Woof! Woof!\n"
     ]
    },
    {
     "name": "stdout",
     "output_type": "stream",
     "text": [
      "dog belongs to canine species and it sounds Woof! Woof!\n"
     ]
    }
   ],
   "source": [
    "''' Create a base class `Animal` with attributes `name` and `species`, and a method `describe` to print them. \n",
    "Create a derived class `Dog` with an additional attribute `breed` and a method `bark` to print \"Woof! Woof!\". \n",
    "Instantiate a `Dog` object and call its methods.'''\n",
    "\n",
    "class Animal:\n",
    "    def __init__(self,name,species):\n",
    "        self.name = name\n",
    "        self.species = species\n",
    "    def describe(self):\n",
    "        print(f'{name} belongs to {species} species')\n",
    "class dog(Animal):\n",
    "    def __init__(self,name,species,breed):\n",
    "        self.breed = breed\n",
    "        super().__init__(name,species)\n",
    "    def bark(self):\n",
    "        sound = input(\"how this animal sounds: \")\n",
    "        \n",
    "        print(f'{self.name} belongs to {self.species} species and it sounds {sound}')\n",
    "\n",
    "Dog = dog(\"dog\",\"canine\",\"bulldog\")\n",
    "Dog.bark()\n",
    "        "
   ]
  },
  {
   "cell_type": "code",
   "execution_count": 29,
   "id": "9bc81edc-1c30-40f2-851f-3730f908a516",
   "metadata": {},
   "outputs": [
    {
     "name": "stdout",
     "output_type": "stream",
     "text": [
      "details of the employee is following:-\n",
      "employee_id : 618133786 \n",
      "first name : Anurag Kumar\n",
      "last name : Giri\n"
     ]
    }
   ],
   "source": [
    "'''Define a class `Person` with attributes `first_name` and `last_name`, and a method `print_name`. \n",
    "Create a derived class `Employee` with an additional attribute `employee_id`. \n",
    "Use the `super()` method to initialize the inherited attributes.\n",
    "Add a method `print_employee_info`. Instantiate an `Employee` object and call its methods.'''\n",
    "\n",
    "class person:\n",
    "    def __init__(self,fname,lname):\n",
    "        self.fname = fname\n",
    "        self.lname = lname\n",
    "    def print_name(self):\n",
    "        print(f'The person name is {fname} {lname}')\n",
    "class employee(person):\n",
    "     def __init__(self,employee_id,fname,lname):\n",
    "         self.employee_id = employee_id\n",
    "         super().__init__(fname,lname)\n",
    "     def print_employee_info(self):\n",
    "        print('details of the employee is following:-',end = '\\n')\n",
    "        print(f'''employee_id : {self.employee_id} \n",
    "first name : {self.fname}\n",
    "last name : {self.lname}''')\n",
    "e1 = employee(618133786,'Anurag Kumar','Giri')\n",
    "e1.print_employee_info()\n",
    "\n",
    "    \n",
    "    "
   ]
  },
  {
   "cell_type": "code",
   "execution_count": 88,
   "id": "616519ad-70d7-42d5-befd-be0ac2f3f605",
   "metadata": {},
   "outputs": [
    {
     "name": "stdin",
     "output_type": "stream",
     "text": [
      "enter the radius of the circle :  4\n"
     ]
    },
    {
     "name": "stdout",
     "output_type": "stream",
     "text": [
      "50.285714285714285\n"
     ]
    },
    {
     "name": "stdin",
     "output_type": "stream",
     "text": [
      "enter the length of the rectangle : 4\n",
      "enter the bredth of the rectangle: 4\n"
     ]
    },
    {
     "name": "stdout",
     "output_type": "stream",
     "text": [
      "16\n"
     ]
    }
   ],
   "source": [
    "'''Define a class `Shape` with a method `area` returning 0. \n",
    "Create derived classes `Circle` and `Rectangle`, \n",
    "overriding the `area` method to return the actual area. \n",
    "Instantiate objects of `Circle` and `Rectangle` and print their areas.'''\n",
    "\n",
    "class shape:\n",
    "    def __init__(self):\n",
    "        self.shape = shape\n",
    "\n",
    "    def area(self):\n",
    "         return 0\n",
    "class circle(shape):\n",
    "    \n",
    "    def area(self):\n",
    "        x = int(input('enter the radius of the circle : '))\n",
    "        self.ara = 22/7*(x**2)\n",
    "        print(self.ara)\n",
    "class rectangle(shape):\n",
    "    def area(self):\n",
    "        x = int(input('enter the length of the rectangle :'))\n",
    "        y = int(input('enter the bredth of the rectangle:'))\n",
    "        self.area = x*y\n",
    "        print(self.area)\n",
    "        \n",
    "c1 = circle()\n",
    "r1 = rectangle()\n",
    "c1.area() \n",
    "r1.area()\n",
    "\n",
    "\n",
    "        \n",
    "\n"
   ]
  },
  {
   "cell_type": "code",
   "execution_count": 90,
   "id": "20217965-b68d-43b6-b7a7-c22513dd98eb",
   "metadata": {},
   "outputs": [
    {
     "name": "stdin",
     "output_type": "stream",
     "text": [
      "enter who are you :  Duck\n"
     ]
    },
    {
     "data": {
      "text/plain": [
       "\"Hi, I am Duck , don't take me easy, I can swim and I can fly\""
      ]
     },
     "execution_count": 90,
     "metadata": {},
     "output_type": "execute_result"
    }
   ],
   "source": [
    "'''Create base classes `Flying` with a method `fly` and `Swimming` with a method `swim`. \n",
    "Create a derived class `Duck` inheriting from both, with an additional method `quack`. \n",
    "Instantiate a `Duck` object and call all its methods.'''\n",
    "\n",
    "class flying:\n",
    "    def fly(self):\n",
    "        return (f'I can fly')\n",
    "        \n",
    "class swimming:\n",
    "    def swim(self):\n",
    "        return (f'I can swim')\n",
    "class Duck(flying,swimming):\n",
    "      def act(self):\n",
    "          x = input ('enter who are you : ')\n",
    "          return (f'Hi, I am {x} , don\\'t take me easy, {self.swim()} and {self.fly()}')\n",
    "d1 = Duck()\n",
    "d1.act()\n"
   ]
  },
  {
   "cell_type": "code",
   "execution_count": 98,
   "id": "28b6ae44-5c21-46d6-8fdb-341d3f58729a",
   "metadata": {},
   "outputs": [
    {
     "data": {
      "text/plain": [
       "\" back off....I didn't failed bad...I will>>>> yes,  I will rise...Soon I will rise\""
      ]
     },
     "execution_count": 98,
     "metadata": {},
     "output_type": "execute_result"
    }
   ],
   "source": [
    "'''Define class `A` with a method `method_A`, and class `E` with a method `method_E`. \n",
    "Create class `B` inheriting from `A` with a method `method_B`, and class `C` \n",
    "inheriting from `A` and `E` with a method `method_C`. Define class `D` \n",
    "inheriting from both `B` and `C` with a method `method_D`. Instantiate a `D` object and \n",
    "call all its methods.'''\n",
    "\n",
    "class A:\n",
    "    def method_A(self):\n",
    "        return \" I will rise\"\n",
    "class E:\n",
    "    def method_E(self):\n",
    "        return\"Soon I will rise\"\n",
    "class B(A):\n",
    "    def method_B(self):\n",
    "        return f'yes, {self.method_A()}'\n",
    "class C(A,E):\n",
    "    def method_C(self):\n",
    "        return f' Ooo, Yes..., {self.method_A()} ...{self.method_E()}'\n",
    "class D(B,C):\n",
    "    def method_D(self):\n",
    "        return f' back off....I didn\\'t failed bad...I will>>>> {self.method_B()}...{self.method_E()}'\n",
    "Python = D()\n",
    "Python.method_D()\n",
    "\n"
   ]
  },
  {
   "cell_type": "code",
   "execution_count": null,
   "id": "fde53606-9e4c-4a13-9714-72d62bbe59d9",
   "metadata": {},
   "outputs": [],
   "source": []
  }
 ],
 "metadata": {
  "kernelspec": {
   "display_name": "Python [conda env:base] *",
   "language": "python",
   "name": "conda-base-py"
  },
  "language_info": {
   "codemirror_mode": {
    "name": "ipython",
    "version": 3
   },
   "file_extension": ".py",
   "mimetype": "text/x-python",
   "name": "python",
   "nbconvert_exporter": "python",
   "pygments_lexer": "ipython3",
   "version": "3.12.7"
  }
 },
 "nbformat": 4,
 "nbformat_minor": 5
}
