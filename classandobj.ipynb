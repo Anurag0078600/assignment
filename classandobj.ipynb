{
 "cells": [
  {
   "cell_type": "code",
   "execution_count": 1,
   "id": "22b55230-9ffd-45cc-aaed-12bfd3d82953",
   "metadata": {},
   "outputs": [
    {
     "data": {
      "text/plain": [
       "64"
      ]
     },
     "execution_count": 1,
     "metadata": {},
     "output_type": "execute_result"
    }
   ],
   "source": [
    "#Write a lambda function to calculate the square of a number. Use it to print the square of 8.\n",
    "x = lambda a : a**2\n",
    "x(8)"
   ]
  },
  {
   "cell_type": "code",
   "execution_count": null,
   "id": "c7070081-c6e8-4e16-9b1b-df23b19de014",
   "metadata": {},
   "outputs": [],
   "source": []
  },
  {
   "cell_type": "code",
   "execution_count": 2,
   "id": "49fc8f11-b7ca-429e-b6e6-30ed3f74fcd7",
   "metadata": {},
   "outputs": [
    {
     "data": {
      "text/plain": [
       "60"
      ]
     },
     "execution_count": 2,
     "metadata": {},
     "output_type": "execute_result"
    }
   ],
   "source": [
    "# Create a lambda function to multiply three arguments. Use it to multiply 3, 4, and 5, then print the result.\n",
    "x = lambda a,b,c: a*b*c\n",
    "x(3,4,5)"
   ]
  },
  {
   "cell_type": "code",
   "execution_count": 4,
   "id": "0afd8e43-3d38-41f0-8062-d8b4ea30a886",
   "metadata": {},
   "outputs": [
    {
     "name": "stdout",
     "output_type": "stream",
     "text": [
      "2.0\n"
     ]
    }
   ],
   "source": [
    "#Write a lambda function to find the maximum of two numbers. Use it to find the maximum between 10 and 20 and print the result.\n",
    "x = lambda a,b : max(a,b)\n",
    "x(10,20)\n",
    "print(4/2)"
   ]
  },
  {
   "cell_type": "code",
   "execution_count": 6,
   "id": "2cb56a71-78a3-49d1-bdd6-7149cd4b4981",
   "metadata": {},
   "outputs": [
    {
     "name": "stdout",
     "output_type": "stream",
     "text": [
      "[2, 4, 6, 8]\n"
     ]
    }
   ],
   "source": [
    "#Create a list of integers and use a lambda function with the filter method to filter out even numbers. Print the resulting list.\n",
    "numbers = [1,2,3,4,5,6,7,8,9]\n",
    "evennumber  = list(filter(lambda x:x%2 == 0,numbers))\n",
    "print(evennumber)\n"
   ]
  },
  {
   "cell_type": "code",
   "execution_count": 7,
   "id": "eabb7533-ca5e-4d4a-8c45-f99f18d46631",
   "metadata": {},
   "outputs": [
    {
     "name": "stdout",
     "output_type": "stream",
     "text": [
      "Dog\n",
      "Buddy\n"
     ]
    }
   ],
   "source": [
    "'''Create a class named Animal with an __init__ method that initializes species and name. \n",
    "Instantiate an object of this class with species \"Dog\" and name \"Buddy\", then print the species and name.'''\n",
    "\n",
    "class animal:\n",
    "    def __init__(self,species,name):\n",
    "        self.species = species\n",
    "        self.name = name\n",
    "a1 = animal(\"Dog\",\"Buddy\")\n",
    "print(a1.species)\n",
    "print(a1.name)"
   ]
  },
  {
   "cell_type": "code",
   "execution_count": 12,
   "id": "6315b767-372c-4f34-a7a5-f98c1e7750be",
   "metadata": {},
   "outputs": [
    {
     "name": "stdout",
     "output_type": "stream",
     "text": [
      "this is mustang C-30 manufactured in 2001\n"
     ]
    }
   ],
   "source": [
    "'''Create a class named Car with attributes for brand, model, and year. \n",
    "Add a method car_info that prints a formatted string with this information. \n",
    "Create an instance of the Car class and call the car_info method.'''\n",
    "\n",
    "class car:\n",
    "    def __init__(self,brand,model,year):\n",
    "        self.brand = brand\n",
    "        self.model = model\n",
    "        self.year = year\n",
    "    def car_info(self):\n",
    "        print(f'this is {self.brand} {self.model} manufactured in {self.year}')\n",
    "c1 = car('mustang','C-30',2001)\n",
    "c1.car_info()\n",
    "        \n",
    "\n"
   ]
  },
  {
   "cell_type": "code",
   "execution_count": 13,
   "id": "89e0fb9a-48eb-4230-9b72-b30f74fb7799",
   "metadata": {},
   "outputs": [
    {
     "name": "stdout",
     "output_type": "stream",
     "text": [
      "Hola!,Alice, como estas\n"
     ]
    }
   ],
   "source": [
    "'''Create a class named Person with an __init__ method and a method introduce that prints a greeting including the person's name.\n",
    "Instantiate an object with the name \"Alice\" and call the introduce method.'''\n",
    "\n",
    "class person:\n",
    "    def __init__(self,name):\n",
    "        self.name = name\n",
    "    def greet(self):\n",
    "        print(f'Hola!,{self.name}, como estas')\n",
    "p1 = person(\"Alice\")\n",
    "p1.greet()\n"
   ]
  },
  {
   "cell_type": "code",
   "execution_count": 16,
   "id": "30962354-764a-40a2-a9b6-6b9d0e3fa40b",
   "metadata": {},
   "outputs": [
    {
     "name": "stdout",
     "output_type": "stream",
     "text": [
      "40.75\n"
     ]
    }
   ],
   "source": [
    "'''Create a class named Student with attributes for name and grades (a list of grades). \n",
    "Add a method average_grade that returns the average of the grades. \n",
    "Create an instance of the Student class, add some grades, and print the average grade.'''\n",
    "import statistics\n",
    "class student:\n",
    "    def __init__(self,name,grade):\n",
    "        self.name = name\n",
    "        self.grade = grade\n",
    "    def avg_grade(self):\n",
    "        return(statistics.mean(self.grade))\n",
    "s1 = student(\"anurag\",[56,64,32,11])\n",
    "result= s1.avg_grade()\n",
    "print(result)\n",
    "\n",
    "\n"
   ]
  },
  {
   "cell_type": "code",
   "execution_count": 8,
   "id": "06758887-9c3e-4140-9b3f-ffbdc16a17eb",
   "metadata": {},
   "outputs": [
    {
     "data": {
      "text/plain": [
       "'this book is 27 year old'"
      ]
     },
     "execution_count": 8,
     "metadata": {},
     "output_type": "execute_result"
    }
   ],
   "source": [
    "''' Create a class named Book with attributes for title, author, and year_published.\n",
    "Add a method book_age that calculates how old the book is from the current year. \n",
    "Create an instance of the Book class and print the age of the book.'''\n",
    "\n",
    "class Book:\n",
    "    def __init__(self,title,author,year_published):\n",
    "        self.title= title\n",
    "        self.author = author\n",
    "        self.year_published = year_published\n",
    "    def book_age(self,current_year):\n",
    "        age = current_year - self.year_published\n",
    "        return (f'this book is {age} year old')\n",
    "b1= Book(\"harry Porter\",\"J.K.Rolling\",1998)\n",
    "b1.book_age(2025)"
   ]
  },
  {
   "cell_type": "code",
   "execution_count": 21,
   "id": "f11f02ce-79f8-4d07-adc3-856eeffeffd1",
   "metadata": {},
   "outputs": [
    {
     "name": "stdin",
     "output_type": "stream",
     "text": [
      "do you want to deposit or withdraw ?  deposit\n",
      "please mention the amount  2000\n"
     ]
    },
    {
     "name": "stdout",
     "output_type": "stream",
     "text": [
      "your new balance is 10002000\n"
     ]
    }
   ],
   "source": [
    "'''Write a BankAccount class with attributes for owner and balance. Add methods for deposit and withdraw.\n",
    "Create an instance and perform some deposits and withdrawals, then print the final balance.'''\n",
    "\n",
    "class bankaccount:\n",
    "    def __init__(self,owner,balance):\n",
    "        self.owner = owner\n",
    "        self.balance = balance\n",
    "    def transition(self):\n",
    "        operation = input('do you want to deposit or withdraw ? ')\n",
    "        amount = int(input('please mention the amount '))\n",
    "        if operation == \"deposit\":\n",
    "            new_balance = self.balance + amount\n",
    "            print(f'your new balance is {new_balance}')\n",
    "        elif operation == \"withdraw\":\n",
    "             new_balance = self.balance - amount\n",
    "             print(f'your new balance is {new_balance}')\n",
    "b1 = bankaccount(\"anurag\",10000000)\n",
    "b1.transition()\n",
    "            \n",
    "            "
   ]
  },
  {
   "cell_type": "code",
   "execution_count": 44,
   "id": "84c32c2c-b9c8-48a0-86fa-4d7c379f5458",
   "metadata": {},
   "outputs": [
    {
     "name": "stdout",
     "output_type": "stream",
     "text": [
      "11\n",
      "2\n",
      "12\n",
      "5.0\n"
     ]
    }
   ],
   "source": [
    "'''Create a Calculator class with methods for addition, subtraction, multiplication, and division. \n",
    "Use this class to perform a series of calculations and print the results.'''\n",
    "\n",
    "class calculator:\n",
    "  def __init__(self):  \n",
    "    self.add = (lambda x,y: x+y)\n",
    "    self.sub = (lambda x,y: x-y)\n",
    "    self.multi = (lambda x,y : x*y)\n",
    "    self.div = (lambda x,y : x/y)\n",
    "addition = calculator()\n",
    "substraction= calculator()\n",
    "multiplication = calculator()\n",
    "division = calculator()\n",
    "\n",
    "print(addition.add(5,6))\n",
    "print(substraction.sub(6,4))\n",
    "print(multiplication.multi(4,3))\n",
    "print(division.div(10,2))\n",
    "\n",
    "      \n",
    "        \n",
    "\n",
    "\n",
    "\n",
    "\n",
    "\n",
    "\n",
    "        \n",
    "        \n",
    "\n",
    "\n",
    "\n",
    "\n",
    "\n",
    "\n",
    "\n",
    "\n",
    "\n",
    "\n",
    "\n",
    "\n",
    "\n",
    "\n",
    "\n",
    "\n"
   ]
  }
 ],
 "metadata": {
  "kernelspec": {
   "display_name": "Python [conda env:base] *",
   "language": "python",
   "name": "conda-base-py"
  },
  "language_info": {
   "codemirror_mode": {
    "name": "ipython",
    "version": 3
   },
   "file_extension": ".py",
   "mimetype": "text/x-python",
   "name": "python",
   "nbconvert_exporter": "python",
   "pygments_lexer": "ipython3",
   "version": "3.12.7"
  }
 },
 "nbformat": 4,
 "nbformat_minor": 5
}
