{
 "cells": [
  {
   "cell_type": "code",
   "execution_count": 4,
   "id": "e0248188-359e-470c-ad33-55c93a33e04f",
   "metadata": {},
   "outputs": [
    {
     "name": "stdout",
     "output_type": "stream",
     "text": [
      "2025-06-16\n"
     ]
    }
   ],
   "source": [
    "#Date Module Operations\n",
    "''' 1. Display the current date and time.\n",
    "\n",
    "\n",
    "      2. Create a date object for `July 4, 2022`, and print it.\n",
    "\n",
    "\n",
    "      3. Extract and display the name of the month from the date object `December 15, 2021`.'''\n",
    "\n",
    "from datetime import date\n",
    "\n",
    "x = date.today()\n",
    "print(x)\n"
   ]
  },
  {
   "cell_type": "code",
   "execution_count": 17,
   "id": "dcec97ec-d3b1-4420-9918-d440fcee302c",
   "metadata": {},
   "outputs": [
    {
     "name": "stdout",
     "output_type": "stream",
     "text": [
      "22-Jul-04\n"
     ]
    }
   ],
   "source": [
    "import datetime\n",
    "x = datetime.datetime(2022,7,4)\n",
    "y = x.strftime('%y-%b-%d')\n",
    "print(y)"
   ]
  },
  {
   "cell_type": "code",
   "execution_count": 18,
   "id": "99fab119-ae22-4b5d-ab60-0ba1f007d6d1",
   "metadata": {},
   "outputs": [
    {
     "name": "stdout",
     "output_type": "stream",
     "text": [
      "2021-12-15\n",
      "December\n"
     ]
    }
   ],
   "source": [
    "from datetime import date\n",
    "x = date(2021,12,15)\n",
    "print(x)\n",
    "y = x.strftime('%B')\n",
    "print(y)"
   ]
  },
  {
   "cell_type": "code",
   "execution_count": 33,
   "id": "ab2cc070-1bb0-4578-b92f-1803a4ec4500",
   "metadata": {},
   "outputs": [
    {
     "name": "stdout",
     "output_type": "stream",
     "text": [
      "1.square root of 81 is : 9.0\n",
      "2. ceiling: 9,floor: 8\n",
      "3.fifth power of 2 is : 32.0\n",
      "4.value of pie is : 3.141592653589793\n"
     ]
    }
   ],
   "source": [
    "# 2. Mathematical Calculations with `math` Module\n",
    "\n",
    "''' - Use the `math` module to:\n",
    "\n",
    "\n",
    "      1. Compute and print the square root of `81`.\n",
    "\n",
    "\n",
    "      2. Find and display the ceiling and floor values of `8.3`.\n",
    "\n",
    "\n",
    "      3. Calculate and print `2` raised to the power of `5`.\n",
    "\n",
    "\n",
    "      4. Print the value of π (pi) from the `math` module.'''\n",
    "\n",
    "import math as m\n",
    "\n",
    "x = m.sqrt(81)\n",
    "print(f'1.square root of 81 is : {x}')\n",
    "\n",
    "y = m.ceil(8.1)\n",
    "z = m.floor(8.1)\n",
    "print(f'2. ceiling: {y},floor: {z}')\n",
    "\n",
    "a = m.pow(2,5)\n",
    "print(f'3.fifth power of 2 is : {a}')\n",
    "\n",
    "lifeofpie = m.pi\n",
    "print(f'4.value of pie is : {lifeofpie}')\n"
   ]
  },
  {
   "cell_type": "code",
   "execution_count": 35,
   "id": "404f2442-4287-43ac-8cbd-e800d4f9f10d",
   "metadata": {},
   "outputs": [
    {
     "name": "stdout",
     "output_type": "stream",
     "text": [
      "lenght of string : 6\n",
      "length of tuple : 3\n",
      "length of dictionary : 2\n"
     ]
    }
   ],
   "source": [
    "# 3. Polymorphism in Built-in and Custom Classes\n",
    "\n",
    "''' - Demonstrate polymorphism by:\n",
    "\n",
    "\n",
    "      1. Using the `len()` function on a string (`\"Python\"`), a tuple (`(1, 2, 3)`), and \n",
    "      a dictionary (`{\"name\": \"John\", \"age\": 30}`) and print their lengths.\n",
    "\n",
    "\n",
    "      2. Define three classes: `Dog`, `Cat`, and `Bird`.\n",
    "      Each class should have a `speak` method that prints a unique sound.\n",
    "      Create an instance of each class and use a loop to call their `speak` methods.'''\n",
    "\n",
    "a = \"Python\"\n",
    "b = (1,2,3)\n",
    "c = {\"name\": \"John\",\"age\":30}\n",
    "\n",
    "a_ = len(a)\n",
    "b_ = len(b)\n",
    "c_ = len(c)\n",
    "\n",
    "print(f'''lenght of string : {a_}\n",
    "length of tuple : {b_}\n",
    "length of dictionary : {c_}''')\n",
    "\n"
   ]
  },
  {
   "cell_type": "code",
   "execution_count": 41,
   "id": "26b80432-e077-412e-b60d-075fd5bb97ef",
   "metadata": {},
   "outputs": [
    {
     "name": "stdout",
     "output_type": "stream",
     "text": [
      "Woof!..Woof!\n",
      "Meww!..Meww!\n",
      "Kooo!..Kooo!\n"
     ]
    }
   ],
   "source": [
    "class Dog:\n",
    "    def speak(self):\n",
    "        return (\"Woof!..Woof!\")\n",
    "class Cat:\n",
    "    def speak(self):\n",
    "        return (\"Meww!..Meww!\")\n",
    "class Bird:\n",
    "    def speak(self):\n",
    "        return (\"Kooo!..Kooo!\")\n",
    "d1 = Dog()\n",
    "c1 = Cat()\n",
    "b1 = Bird()\n",
    "\n",
    "spe = [d1.speak(),c1.speak(),b1.speak()]\n",
    "for i in spe:\n",
    "    print(i)"
   ]
  },
  {
   "cell_type": "code",
   "execution_count": 45,
   "id": "18a1bfa9-2504-4512-b7ff-bb7efbd8e934",
   "metadata": {},
   "outputs": [
    {
     "name": "stdout",
     "output_type": "stream",
     "text": [
      "first line\n"
     ]
    },
    {
     "data": {
      "text/plain": [
       "<function TextIOWrapper.close()>"
      ]
     },
     "execution_count": 45,
     "metadata": {},
     "output_type": "execute_result"
    }
   ],
   "source": [
    "# 4. File Handling: Creation, Reading, and Appending\n",
    "'''1. Create a file named `notes.txt` and write `\"First Line\"` into it.\n",
    "\n",
    "\n",
    "      2. Open `notes.txt` and read its contents. Print the content to the console.\n",
    "\n",
    "\n",
    "      3. Append `\"Second Line\"` to `notes.txt`.\n",
    "\n",
    "\n",
    "      4. Open and read the updated contents of `notes.txt`, and print the results.'''\n",
    "\n",
    "f = open(\"notes.txt\",\"w\")\n",
    "f.write(\"first line\")\n",
    "f.close\n",
    "\n",
    "f = open(\"notes.txt\",\"r\")\n",
    "print(f.readline())\n",
    "f.close\n",
    "\n",
    "f = open(\"notes.txt\",\"a\")\n",
    "f.write(\" this is second line\")\n",
    "f.close\n"
   ]
  },
  {
   "cell_type": "code",
   "execution_count": 47,
   "id": "af326eec-dfb7-44d9-bc29-3fcdbb2ddd88",
   "metadata": {},
   "outputs": [
    {
     "name": "stdout",
     "output_type": "stream",
     "text": [
      "first line this is second line\n"
     ]
    },
    {
     "data": {
      "text/plain": [
       "<function TextIOWrapper.close()>"
      ]
     },
     "execution_count": 47,
     "metadata": {},
     "output_type": "execute_result"
    }
   ],
   "source": [
    "f = open(\"notes.txt\",\"a\")\n",
    "f.write(\" this is second line\")\n",
    "f = open(\"notes.txt\",\"r\")\n",
    "print(f.read())\n",
    "f.close"
   ]
  },
  {
   "cell_type": "code",
   "execution_count": 49,
   "id": "f37a0cdf-cc42-4d13-808e-f39e16c663cc",
   "metadata": {},
   "outputs": [
    {
     "name": "stdout",
     "output_type": "stream",
     "text": [
      "example when file does not exist\n",
      "file does not exist\n"
     ]
    }
   ],
   "source": [
    "# 5. File Handling: Checking Existence and Deleting\n",
    "\n",
    "\n",
    "'''  1. Check if a file named `testfile.txt` exists in the current directory. If it does, delete the file and print `\"File deleted.\"`.\n",
    "\n",
    "\n",
    "      2. If `testfile.txt` does not exist, print `\"File does not exist.\"`.'''\n",
    "\n",
    "import os as o\n",
    "\n",
    "print('example when file does not exist')\n",
    "\n",
    "if o.path.exists(\"textfile.txt\"):\n",
    "    o.remove('textfile.txt')\n",
    "    print('file deleted')\n",
    "else:\n",
    "    print('file does not exist')\n",
    "\n",
    "\n",
    "    "
   ]
  },
  {
   "cell_type": "code",
   "execution_count": 53,
   "id": "1513490c-ec12-4748-b75f-18d6c8a86019",
   "metadata": {},
   "outputs": [
    {
     "name": "stdout",
     "output_type": "stream",
     "text": [
      "I am the best\n",
      "example when file exist\n",
      "file deleted\n"
     ]
    }
   ],
   "source": [
    "import os as o\n",
    "\n",
    "f = open(\"testfile.txt\",\"w\")\n",
    "f.write(\"I am the best\")\n",
    "f.close()\n",
    "f = open(\"testfile.txt\",\"r\")\n",
    "print(f.read())\n",
    "f.close()\n",
    "\n",
    "print('example when file exist')\n",
    "\n",
    "if o.path.exists(\"testfile.txt\"):\n",
    "    o.remove('testfile.txt')\n",
    "    print('file deleted')\n",
    "else:\n",
    "    print('file does not exist')\n"
   ]
  }
 ],
 "metadata": {
  "kernelspec": {
   "display_name": "Python [conda env:base] *",
   "language": "python",
   "name": "conda-base-py"
  },
  "language_info": {
   "codemirror_mode": {
    "name": "ipython",
    "version": 3
   },
   "file_extension": ".py",
   "mimetype": "text/x-python",
   "name": "python",
   "nbconvert_exporter": "python",
   "pygments_lexer": "ipython3",
   "version": "3.12.7"
  }
 },
 "nbformat": 4,
 "nbformat_minor": 5
}
